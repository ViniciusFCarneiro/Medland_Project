{
	"metadata": {
		"kernelspec": {
			"name": "glue_pyspark",
			"display_name": "Glue PySpark",
			"language": "python"
		},
		"language_info": {
			"name": "Python_Glue_Session",
			"mimetype": "text/x-python",
			"codemirror_mode": {
				"name": "python",
				"version": 3
			},
			"pygments_lexer": "python3",
			"file_extension": ".py"
		}
	},
	"nbformat_minor": 4,
	"nbformat": 4,
	"cells": [
		{
			"cell_type": "markdown",
			"source": "# AWS Glue Studio Notebook\n##### You are now running a AWS Glue Studio notebook; To start using your notebook you need to start an AWS Glue Interactive Session.\n",
			"metadata": {
				"editable": true,
				"trusted": true
			}
		},
		{
			"cell_type": "markdown",
			"source": "####  Run this cell to set up and start your interactive session.\n",
			"metadata": {
				"editable": true,
				"trusted": true
			}
		},
		{
			"cell_type": "code",
			"source": "import sys\nfrom awsglue.transforms import *\nfrom awsglue.utils import getResolvedOptions\nfrom pyspark.context import SparkContext\nfrom awsglue.context import GlueContext\nfrom awsglue.job import Job\n\nargs = getResolvedOptions(sys.argv, [\"JOB_NAME\"])\nsc =  SparkContext()\nglueContext = GlueContext(sc)\nspark = glueContext.spark_session\njob = Job(glueContext)\njob.init(args[\"JOB_NAME\"], args)\n\n# Criando um dynamic frame do Glue a partir do catalogo de dados para tabela Pacientes\nCatalogoPACIENTES_node1686602776981 = glueContext.create_dynamic_frame.from_catalog(\n    database = \"medland data\",\n    table_name = \"pacientes\",\n    transformation_ctx = \"CatalogoPACIENTES_node1686602776981\",\n)\n\n# Subindo os dados para o banco a partir do catalogo do Glue que tem target a tabela Pacientes\nMySQLPACIENTES_node3 = glueContext.write_dynamic_frame.from_catalog(\n    frame = CatalogoPACIENTES_node1686602776981,\n    database = \"mysql rds medland\",\n    table_name = \"hospital_pacientes\",\n    transformation_ctx = \"MySQLPACIENTES_node3\",\n)\n\n# Commitando as alterações\njob.commit()\n\n# Criando um dynamic frame do Glue a partir do catalogo de dados para tabela Consultas\nAWSCONSULTAS_node1686604473988 = glueContext.create_dynamic_frame.from_catalog(\n    database = \"medland data\",\n    table_name = \"consultas\",\n    transformation_ctx = \"AWSCONSULTAS_node1686604473988\",\n)\n\n# # Subindo os dados para o banco a partir do catalogo do Glue que tem target a tabela Consultas\nMySQLCONSULTAS_node1686604496402 = glueContext.write_dynamic_frame.from_catalog(\n    frame = AWSCONSULTAS_node1686604473988,\n    database = \"mysql rds medland\",\n    table_name = \"hospital_consultas\",\n    transformation_ctx = \"MySQLCONSULTAS_node1686604496402\",\n)\n\n# Salvando as alterações\njob.commit()",
			"metadata": {
				"trusted": true,
				"tags": []
			},
			"execution_count": 1,
			"outputs": [
				{
					"name": "stdout",
					"text": "Welcome to the Glue Interactive Sessions Kernel\nFor more information on available magic commands, please type %help in any new cell.\n\nPlease view our Getting Started page to access the most up-to-date information on the Interactive Sessions kernel: https://docs.aws.amazon.com/glue/latest/dg/interactive-sessions.html\nInstalled kernel version: 0.38.1 \nAuthenticating with environment variables and user-defined glue_role_arn: arn:aws:iam::299399630206:role/acesso_total\nTrying to create a Glue session for the kernel.\nWorker Type: G.1X\nNumber of Workers: 5\nSession ID: 766fa9fd-d825-461c-8bcf-7d82a4a93214\nJob Type: glueetl\nApplying the following default arguments:\n--glue_kernel_version 0.38.1\n--enable-glue-datacatalog true\nWaiting for session 766fa9fd-d825-461c-8bcf-7d82a4a93214 to get into ready status...\nSession 766fa9fd-d825-461c-8bcf-7d82a4a93214 has been created.\nGlueArgumentError: the following arguments are required: --JOB_NAME\n",
					"output_type": "stream"
				}
			]
		}
	]
}